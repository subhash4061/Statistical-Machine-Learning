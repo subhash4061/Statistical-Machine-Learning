{
  "nbformat": 4,
  "nbformat_minor": 0,
  "metadata": {
    "colab": {
      "name": "SML project3.ipynb",
      "provenance": [],
      "collapsed_sections": []
    },
    "kernelspec": {
      "name": "python3",
      "display_name": "Python 3"
    },
    "language_info": {
      "name": "python"
    },
    "accelerator": "GPU"
  },
  "cells": [
    {
      "cell_type": "code",
      "metadata": {
        "id": "NYao00pPmEf5"
      },
      "source": [
        "import keras\n",
        "from keras.datasets import mnist\n",
        "from keras.models import Sequential\n",
        "from keras.layers import Dense, Dropout, Flatten\n",
        "from keras.layers import Conv2D, MaxPooling2D\n",
        "from keras import backend as K\n",
        "import scipy.io as io \n",
        "from sklearn.preprocessing import OneHotEncoder\n",
        "from matplotlib import pyplot as plt"
      ],
      "execution_count": 3,
      "outputs": []
    },
    {
      "cell_type": "markdown",
      "metadata": {
        "id": "CznE63z9FSuz"
      },
      "source": [
        "Loading the Data"
      ]
    },
    {
      "cell_type": "code",
      "metadata": {
        "id": "2GN0eV0K1VoV"
      },
      "source": [
        "trX = io.loadmat('/content/drive/MyDrive/train_32x32.mat')['X']\n",
        "trY = io.loadmat('/content/drive/MyDrive/train_32x32.mat')['y']\n",
        "tsX = io.loadmat('/content/drive/MyDrive/test_32x32.mat')['X']\n",
        "tsY = io.loadmat('/content/drive/MyDrive/test_32x32.mat')['y']"
      ],
      "execution_count": 4,
      "outputs": []
    },
    {
      "cell_type": "markdown",
      "metadata": {
        "id": "M1VVeJBJGzVS"
      },
      "source": [
        "Normalization"
      ]
    },
    {
      "cell_type": "code",
      "metadata": {
        "id": "UO93iD3umuEO"
      },
      "source": [
        "# Dividing pixel values by 255.\n",
        "X_train=trX.astype('float32')/255.0\n",
        "X_test=tsX.astype('float32')/255.0"
      ],
      "execution_count": 5,
      "outputs": []
    },
    {
      "cell_type": "markdown",
      "metadata": {
        "id": "_ISzYV7RIEiI"
      },
      "source": [
        "One-Hot Vector Encoding"
      ]
    },
    {
      "cell_type": "code",
      "metadata": {
        "id": "-JinJgwGJq4M"
      },
      "source": [
        "Y_train = OneHotEncoder().fit_transform(trY).toarray()\n",
        "Y_test= OneHotEncoder().fit_transform(tsY).toarray()"
      ],
      "execution_count": 6,
      "outputs": []
    },
    {
      "cell_type": "markdown",
      "metadata": {
        "id": "lRoIbEcwLF-t"
      },
      "source": [
        "CNN Model Architecture"
      ]
    },
    {
      "cell_type": "code",
      "metadata": {
        "id": "UC3S5AbYKHod"
      },
      "source": [
        "# A sequential model\n",
        "model=Sequential()\n",
        "\n",
        "# Convolutional Layer\n",
        "model.add(Conv2D(64, kernel_size=(5,5),strides=(1,1),padding='same',activation='relu',input_shape=(32,32,3)))\n",
        "# Max Pooling Layer\n",
        "model.add(MaxPooling2D(pool_size=(2,2),strides=(2,2)))\n",
        "# Covolutional Layer\n",
        "model.add(Conv2D(64,kernel_size=(5,5),strides=(1,1),padding='same', activation='relu'))\n",
        "# Max Pooling Layer\n",
        "model.add(MaxPooling2D(pool_size=(2,2),strides=(2,2)))\n",
        "# Convolutional Layer\n",
        "model.add(Conv2D(128,kernel_size=(5,5),strides=(1,1),padding='same', activation='relu'))\n",
        "# Flattening Previous Layers Outputs\n",
        "model.add(Flatten())\n",
        "# Fully-Connected Layer\n",
        "model.add(Dense(3072,activation='relu'))\n",
        "# Fully-Connected Layer\n",
        "model.add(Dense(2048,activation='relu'))\n",
        "# Final Fully Connected Layer.\n",
        "model.add(Dense(10,activation='softmax'))"
      ],
      "execution_count": 7,
      "outputs": []
    },
    {
      "cell_type": "markdown",
      "metadata": {
        "id": "lq6mK5zWHvY3"
      },
      "source": [
        "Training the model by using SGD optimizer"
      ]
    },
    {
      "cell_type": "code",
      "metadata": {
        "id": "gTkWrpk03D9Y",
        "colab": {
          "base_uri": "https://localhost:8080/"
        },
        "outputId": "ee9aadf6-87b4-49c1-9aa5-8e933478eab4"
      },
      "source": [
        "model.compile(loss=keras.losses.categorical_crossentropy,optimizer=keras.optimizers.SGD(learning_rate=0.01),metrics=['accuracy'])\n",
        "history=model.fit(X_train, Y_train,epochs=20, validation_data=(X_test,Y_test))"
      ],
      "execution_count": 8,
      "outputs": [
        {
          "output_type": "stream",
          "text": [
            "Epoch 1/20\n",
            "2290/2290 [==============================] - 55s 10ms/step - loss: 2.2251 - accuracy: 0.1963 - val_loss: 1.1702 - val_accuracy: 0.6325\n",
            "Epoch 2/20\n",
            "2290/2290 [==============================] - 22s 9ms/step - loss: 0.8911 - accuracy: 0.7258 - val_loss: 0.6262 - val_accuracy: 0.8144\n",
            "Epoch 3/20\n",
            "2290/2290 [==============================] - 22s 10ms/step - loss: 0.4766 - accuracy: 0.8597 - val_loss: 0.4677 - val_accuracy: 0.8661\n",
            "Epoch 4/20\n",
            "2290/2290 [==============================] - 22s 10ms/step - loss: 0.3714 - accuracy: 0.8909 - val_loss: 0.4029 - val_accuracy: 0.8825\n",
            "Epoch 5/20\n",
            "2290/2290 [==============================] - 22s 10ms/step - loss: 0.3108 - accuracy: 0.9102 - val_loss: 0.3711 - val_accuracy: 0.8938\n",
            "Epoch 6/20\n",
            "2290/2290 [==============================] - 22s 10ms/step - loss: 0.2626 - accuracy: 0.9242 - val_loss: 0.5468 - val_accuracy: 0.8612\n",
            "Epoch 7/20\n",
            "2290/2290 [==============================] - 22s 10ms/step - loss: 0.2179 - accuracy: 0.9385 - val_loss: 0.4351 - val_accuracy: 0.8790\n",
            "Epoch 8/20\n",
            "2290/2290 [==============================] - 22s 10ms/step - loss: 0.1855 - accuracy: 0.9473 - val_loss: 0.3660 - val_accuracy: 0.9024\n",
            "Epoch 9/20\n",
            "2290/2290 [==============================] - 22s 10ms/step - loss: 0.1535 - accuracy: 0.9577 - val_loss: 0.4844 - val_accuracy: 0.8634\n",
            "Epoch 10/20\n",
            "2290/2290 [==============================] - 22s 10ms/step - loss: 0.1238 - accuracy: 0.9663 - val_loss: 0.3837 - val_accuracy: 0.9013\n",
            "Epoch 11/20\n",
            "2290/2290 [==============================] - 22s 10ms/step - loss: 0.0925 - accuracy: 0.9737 - val_loss: 0.3970 - val_accuracy: 0.9062\n",
            "Epoch 12/20\n",
            "2290/2290 [==============================] - 22s 10ms/step - loss: 0.0713 - accuracy: 0.9808 - val_loss: 0.4127 - val_accuracy: 0.9033\n",
            "Epoch 13/20\n",
            "2290/2290 [==============================] - 22s 10ms/step - loss: 0.0507 - accuracy: 0.9866 - val_loss: 0.4344 - val_accuracy: 0.9071\n",
            "Epoch 14/20\n",
            "2290/2290 [==============================] - 22s 10ms/step - loss: 0.0354 - accuracy: 0.9911 - val_loss: 0.4916 - val_accuracy: 0.8956\n",
            "Epoch 15/20\n",
            "2290/2290 [==============================] - 22s 10ms/step - loss: 0.0269 - accuracy: 0.9934 - val_loss: 0.4894 - val_accuracy: 0.9096\n",
            "Epoch 16/20\n",
            "2290/2290 [==============================] - 22s 10ms/step - loss: 0.0165 - accuracy: 0.9962 - val_loss: 0.5181 - val_accuracy: 0.9095\n",
            "Epoch 17/20\n",
            "2290/2290 [==============================] - 22s 10ms/step - loss: 0.0135 - accuracy: 0.9973 - val_loss: 0.5690 - val_accuracy: 0.9016\n",
            "Epoch 18/20\n",
            "2290/2290 [==============================] - 22s 10ms/step - loss: 0.0129 - accuracy: 0.9970 - val_loss: 0.5548 - val_accuracy: 0.9045\n",
            "Epoch 19/20\n",
            "2290/2290 [==============================] - 22s 10ms/step - loss: 0.0073 - accuracy: 0.9989 - val_loss: 0.5491 - val_accuracy: 0.9105\n",
            "Epoch 20/20\n",
            "2290/2290 [==============================] - 22s 10ms/step - loss: 0.0021 - accuracy: 0.9999 - val_loss: 0.5796 - val_accuracy: 0.9140\n"
          ],
          "name": "stdout"
        }
      ]
    },
    {
      "cell_type": "markdown",
      "metadata": {
        "id": "IZOhwG-ZZ16f"
      },
      "source": [
        "Calculating training and testing accuracies and losses"
      ]
    },
    {
      "cell_type": "code",
      "metadata": {
        "id": "syVudXn4SUXt"
      },
      "source": [
        "train_acc = history.history['accuracy']\n",
        "test_acc = history.history['val_accuracy']\n",
        "\n",
        "train_loss = history.history['loss']\n",
        "test_loss = history.history['val_loss']"
      ],
      "execution_count": 9,
      "outputs": []
    },
    {
      "cell_type": "markdown",
      "metadata": {
        "id": "LiKWFyEBIOBE"
      },
      "source": [
        "Graph of Epochs VS Training Loss"
      ]
    },
    {
      "cell_type": "code",
      "metadata": {
        "id": "ZNcPFaSUzo3j",
        "colab": {
          "base_uri": "https://localhost:8080/",
          "height": 295
        },
        "outputId": "473f77e6-ee5e-4158-e7fd-228090b621da"
      },
      "source": [
        "plt.plot(train_loss, label='Training Loss')\n",
        "plt.legend()\n",
        "plt.title('Epochs vs. Training Loss')\n",
        "plt.xlabel('Epochs')\n",
        "plt.ylabel('Training Loss')\n",
        "plt.show()"
      ],
      "execution_count": 10,
      "outputs": [
        {
          "output_type": "display_data",
          "data": {
            "image/png": "[encoded data removed]",
            "text/plain": [
              "<Figure size 432x288 with 1 Axes>"
            ]
          },
          "metadata": {
            "tags": [],
            "needs_background": "light"
          }
        }
      ]
    },
    {
      "cell_type": "markdown",
      "metadata": {
        "id": "Ubt884QmIoPK"
      },
      "source": [
        "Graph of Epochs VS  Testing Loss"
      ]
    },
    {
      "cell_type": "code",
      "metadata": {
        "id": "B6v4Qnl60LmH",
        "colab": {
          "base_uri": "https://localhost:8080/",
          "height": 295
        },
        "outputId": "37809d6e-15aa-472d-c7cc-67b1e7ea82f1"
      },
      "source": [
        "plt.plot(test_loss, label='Testing Loss')\n",
        "plt.legend()\n",
        "plt.title('Epochs vs. Testing Loss')\n",
        "plt.xlabel('Epochs')\n",
        "plt.ylabel('Testing Loss')\n",
        "plt.show()"
      ],
      "execution_count": 11,
      "outputs": [
        {
          "output_type": "display_data",
          "data": {
            "image/png": "[encoded data removed]",
            "text/plain": [
              "<Figure size 432x288 with 1 Axes>"
            ]
          },
          "metadata": {
            "tags": [],
            "needs_background": "light"
          }
        }
      ]
    },
    {
      "cell_type": "markdown",
      "metadata": {
        "id": "MJqM-UHxIvwq"
      },
      "source": [
        "Graph of Epochs VS Training and Testing Loss"
      ]
    },
    {
      "cell_type": "code",
      "metadata": {
        "id": "b_XPdszizIa-",
        "colab": {
          "base_uri": "https://localhost:8080/",
          "height": 295
        },
        "outputId": "9cab5fb5-0b2e-450b-d3b0-ec82feb285d9"
      },
      "source": [
        "plt.plot(train_loss, label='Training Loss')\n",
        "plt.plot(test_loss, label='Testing Loss')\n",
        "plt.legend()\n",
        "plt.title('Epochs vs. Training and Testing Loss')\n",
        "plt.xlabel('Epochs')\n",
        "plt.ylabel('Loss')\n",
        "plt.show()"
      ],
      "execution_count": 12,
      "outputs": [
        {
          "output_type": "display_data",
          "data": {
            "image/png": "[encoded data removed]",
            "text/plain": [
              "<Figure size 432x288 with 1 Axes>"
            ]
          },
          "metadata": {
            "tags": [],
            "needs_background": "light"
          }
        }
      ]
    },
    {
      "cell_type": "markdown",
      "metadata": {
        "id": "ADZ_WbO3I9oE"
      },
      "source": [
        "Graph of Epochs VS Training and Testing Accuracy"
      ]
    },
    {
      "cell_type": "code",
      "metadata": {
        "id": "U7RltInQaO5M",
        "colab": {
          "base_uri": "https://localhost:8080/",
          "height": 295
        },
        "outputId": "d2a3e364-0265-4df8-a5eb-267a94b10fb4"
      },
      "source": [
        "plt.plot(train_acc, label='Training Accuracy')\n",
        "plt.plot(test_acc, label='Testing Accuracy')\n",
        "plt.legend()\n",
        "plt.title('Epochs vs. Training and Testing Accuracy')\n",
        "plt.xlabel('Epochs')\n",
        "plt.ylabel('Accuracy')\n",
        "plt.show()"
      ],
      "execution_count": 13,
      "outputs": [
        {
          "output_type": "display_data",
          "data": {
            "image/png": "[encoded data removed]",
            "text/plain": [
              "<Figure size 432x288 with 1 Axes>"
            ]
          },
          "metadata": {
            "tags": [],
            "needs_background": "light"
          }
        }
      ]
    },
    {
      "cell_type": "markdown",
      "metadata": {
        "id": "Xek4iAQFNNpp"
      },
      "source": [
        "Evaluating the model on testing data"
      ]
    },
    {
      "cell_type": "code",
      "metadata": {
        "id": "jVHqbDROa-_1",
        "colab": {
          "base_uri": "https://localhost:8080/"
        },
        "outputId": "86c38be7-1711-4fe8-8fcc-231d60bae598"
      },
      "source": [
        "test_loss, test_acc = model.evaluate(x=X_test, y=Y_test, verbose=0)\n",
        "\n",
        "print('Test accuracy is: {:0.4f} \\nTest loss is: {:0.4f}'.\n",
        "      format(test_acc, test_loss))"
      ],
      "execution_count": 15,
      "outputs": [
        {
          "output_type": "stream",
          "text": [
            "Test accuracy is: 0.9140 \n",
            "Test loss is: 0.5796\n"
          ],
          "name": "stdout"
        }
      ]
    },
    {
      "cell_type": "code",
      "metadata": {
        "id": "lbL2NhKTNRji"
      },
      "source": [
        ""
      ],
      "execution_count": null,
      "outputs": []
    }
  ]
}